{
 "cells": [
  {
   "cell_type": "code",
   "execution_count": 1,
   "id": "53f99cee",
   "metadata": {},
   "outputs": [],
   "source": [
    "import numpy as np"
   ]
  },
  {
   "cell_type": "code",
   "execution_count": 2,
   "id": "e93ccf0b",
   "metadata": {},
   "outputs": [],
   "source": [
    "x = np.array([5,150,150,5])\n",
    "y = np.array([5,5,150,150])\n",
    "xp = np.array([150,150,220,80])\n",
    "yp = np.array([5,150,100,200])\n"
   ]
  },
  {
   "cell_type": "markdown",
   "id": "8c13b3f3",
   "metadata": {},
   "source": []
  },
  {
   "cell_type": "code",
   "execution_count": 54,
   "id": "42fd2da0",
   "metadata": {},
   "outputs": [],
   "source": [
    "A = np.array([[-x[0],-y[0],-1,0,0,0,x[0]*xp[0],y[0]*xp[0],xp[0]],\n",
    "              [0,0,0,-x[0],-y[0],-1,x[0]*yp[0],y[0]*yp[0],yp[0]],\n",
    "              [-x[1],-y[1],-1,0,0,0,x[1]*xp[1],y[1]*xp[1],xp[1]],\n",
    "              [0,0,0,-x[1],-y[1],-1,x[1]*yp[1],y[1]*yp[1],yp[1]],\n",
    "              [-x[2],-y[2],-1,0,0,0,x[2]*xp[2],y[2]*xp[2],xp[2]],\n",
    "              [0,0,0,-x[2],-y[2],-1,x[2]*yp[2],y[2]*yp[2],yp[2]],\n",
    "              [-x[3],-y[3],-1,0,0,0,x[3]*xp[3],y[3]*xp[3],xp[3]],\n",
    "              [0,0,0,-x[3],-y[3],-1,x[3]*yp[3],y[3]*yp[3],yp[3]]])"
   ]
  },
  {
   "cell_type": "code",
   "execution_count": 55,
   "id": "da642226",
   "metadata": {},
   "outputs": [
    {
     "data": {
      "text/plain": [
       "array([[   -5,    -5,    -1,     0,     0,     0,   750,   750,   150],\n",
       "       [    0,     0,     0,    -5,    -5,    -1,    25,    25,     5],\n",
       "       [ -150,    -5,    -1,     0,     0,     0, 22500,   750,   150],\n",
       "       [    0,     0,     0,  -150,    -5,    -1, 22500,   750,   150],\n",
       "       [ -150,  -150,    -1,     0,     0,     0, 33000, 33000,   220],\n",
       "       [    0,     0,     0,  -150,  -150,    -1, 15000, 15000,   100],\n",
       "       [   -5,  -150,    -1,     0,     0,     0,   400, 12000,    80],\n",
       "       [    0,     0,     0,    -5,  -150,    -1,  1000, 30000,   200]])"
      ]
     },
     "execution_count": 55,
     "metadata": {},
     "output_type": "execute_result"
    }
   ],
   "source": [
    "A"
   ]
  },
  {
   "cell_type": "code",
   "execution_count": 73,
   "id": "2e3e4a65",
   "metadata": {},
   "outputs": [],
   "source": [
    "def compute_SVD(A):\n",
    "    A_t = A.T\n",
    "    AA_t = A.dot(A_t)\n",
    "    U_eig, U_eigv = np.linalg.eig(AA_t)\n",
    "    \n",
    "    A_tA = A_t.dot(A)\n",
    "    V_eig, V_eigv = np.linalg.eig(A_tA)\n",
    "    V_eigv_t = V_eigv.T\n",
    "    \n",
    "    temp = np.array(np.diag((np.sqrt(U_eig))))\n",
    "    sigma = np.zeros_like(A)\n",
    "    sigma[:temp.shape[0],:temp.shape[1]] = temp\n",
    "    H = V_eigv[:,8]\n",
    "    H = np.reshape(H,(3,3))\n",
    "    return V_eigv_t, U_eigv, sigma, H\n",
    "    "
   ]
  },
  {
   "cell_type": "code",
   "execution_count": 74,
   "id": "9f998734",
   "metadata": {},
   "outputs": [],
   "source": [
    "VT, U, S, H = compute_SVD(A)"
   ]
  },
  {
   "cell_type": "code",
   "execution_count": 75,
   "id": "ae986397",
   "metadata": {},
   "outputs": [
    {
     "data": {
      "text/plain": [
       "array([[ 2.54946062e-03,  2.25621498e-03,  1.95578817e-05,\n",
       "         1.54140150e-03,  1.76252703e-03,  1.60004644e-05,\n",
       "        -7.03055489e-01, -7.11097216e-01, -6.05432678e-03],\n",
       "       [ 2.41475718e-03, -1.15080213e-03,  7.90192029e-06,\n",
       "         2.32844267e-03, -3.08269028e-03, -4.98322910e-06,\n",
       "        -7.11107330e-01,  7.03067767e-01,  1.58511101e-05],\n",
       "       [-3.55867233e-01, -4.16519208e-01, -2.86986478e-03,\n",
       "         5.99439572e-01,  5.40128708e-01,  5.25610583e-03,\n",
       "         4.96133747e-04,  1.43036596e-03, -2.20828633e-01],\n",
       "       [ 1.97939546e-01, -2.69085083e-02,  5.80620960e-03,\n",
       "        -2.21957585e-01, -3.39219887e-02,  2.35464817e-04,\n",
       "         4.14749580e-03,  4.07882439e-03, -9.53736018e-01],\n",
       "       [-4.09271582e-01,  7.29257605e-01,  3.40947867e-03,\n",
       "         4.34592174e-01, -2.70145114e-01,  1.04129989e-03,\n",
       "         1.40815060e-03,  1.40423644e-03, -1.97014502e-01],\n",
       "       [-5.30421539e-01, -5.09602196e-01, -8.94743600e-03,\n",
       "        -8.45230599e-02, -6.70064960e-01,  8.02851444e-04,\n",
       "        -1.62421453e-03, -3.31190719e-03, -5.22789318e-02],\n",
       "       [-4.39961853e-01,  1.29047833e-01,  1.68594615e-02,\n",
       "        -4.41192585e-01,  3.04956220e-01, -7.08396458e-01,\n",
       "        -2.93586215e-03,  1.54602605e-03, -3.19983550e-03],\n",
       "       [ 3.71997683e-01, -1.17566460e-01,  5.31121601e-01,\n",
       "         3.83883651e-01, -2.61562985e-01, -5.91525905e-01,\n",
       "         2.50678248e-03, -1.36310966e-03,  3.57834420e-03],\n",
       "       [ 2.31013353e-01, -6.16035605e-02, -8.47048990e-01,\n",
       "         2.31013353e-01, -1.54008902e-01, -3.85022260e-01,\n",
       "         1.54008902e-03, -7.70044507e-04, -3.85022271e-03]])"
      ]
     },
     "execution_count": 75,
     "metadata": {},
     "output_type": "execute_result"
    }
   ],
   "source": [
    "VT"
   ]
  },
  {
   "cell_type": "code",
   "execution_count": 76,
   "id": "78df8d8b",
   "metadata": {},
   "outputs": [
    {
     "data": {
      "text/plain": [
       "array([[ 2.31013353e-01, -6.16035605e-02, -8.47048990e-01],\n",
       "       [ 2.31013353e-01, -1.54008902e-01, -3.85022260e-01],\n",
       "       [ 1.54008902e-03, -7.70044507e-04, -3.85022271e-03]])"
      ]
     },
     "execution_count": 76,
     "metadata": {},
     "output_type": "execute_result"
    }
   ],
   "source": [
    "H"
   ]
  },
  {
   "cell_type": "code",
   "execution_count": null,
   "id": "58b7b869",
   "metadata": {},
   "outputs": [],
   "source": []
  }
 ],
 "metadata": {
  "kernelspec": {
   "display_name": "Python 3",
   "language": "python",
   "name": "python3"
  },
  "language_info": {
   "codemirror_mode": {
    "name": "ipython",
    "version": 3
   },
   "file_extension": ".py",
   "mimetype": "text/x-python",
   "name": "python",
   "nbconvert_exporter": "python",
   "pygments_lexer": "ipython3",
   "version": "3.7.11"
  }
 },
 "nbformat": 4,
 "nbformat_minor": 5
}
