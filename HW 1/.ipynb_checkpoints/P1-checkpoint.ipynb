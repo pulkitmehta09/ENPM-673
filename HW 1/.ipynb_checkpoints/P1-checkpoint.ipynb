{
 "cells": [
  {
   "cell_type": "code",
   "execution_count": 1,
   "id": "97876580",
   "metadata": {},
   "outputs": [],
   "source": [
    "import math"
   ]
  },
  {
   "cell_type": "code",
   "execution_count": 2,
   "id": "e1dffddc",
   "metadata": {},
   "outputs": [],
   "source": [
    "d = 14\n",
    "f = 25\n"
   ]
  },
  {
   "cell_type": "code",
   "execution_count": 4,
   "id": "b6887e1e",
   "metadata": {},
   "outputs": [],
   "source": [
    "phi = math.atan(d/2*f)"
   ]
  },
  {
   "cell_type": "code",
   "execution_count": 5,
   "id": "83c6a018",
   "metadata": {},
   "outputs": [
    {
     "data": {
      "text/plain": [
       "1.5650821032756994"
      ]
     },
     "execution_count": 5,
     "metadata": {},
     "output_type": "execute_result"
    }
   ],
   "source": [
    "phi"
   ]
  },
  {
   "cell_type": "code",
   "execution_count": null,
   "id": "4a256e02",
   "metadata": {},
   "outputs": [],
   "source": []
  }
 ],
 "metadata": {
  "kernelspec": {
   "display_name": "Python 3",
   "language": "python",
   "name": "python3"
  },
  "language_info": {
   "codemirror_mode": {
    "name": "ipython",
    "version": 3
   },
   "file_extension": ".py",
   "mimetype": "text/x-python",
   "name": "python",
   "nbconvert_exporter": "python",
   "pygments_lexer": "ipython3",
   "version": "3.7.11"
  }
 },
 "nbformat": 4,
 "nbformat_minor": 5
}
